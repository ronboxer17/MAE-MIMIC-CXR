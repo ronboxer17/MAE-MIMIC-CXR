{
 "cells": [
  {
   "cell_type": "code",
   "execution_count": 1,
   "metadata": {},
   "outputs": [],
   "source": [
    "import pandas as pd\n",
    "import numpy as np\n",
    "\n",
    "from src.config import METADATA_PATH, SPLIT_PATH, NEGIBOX_PATH, CHEXPERT_PATH\n",
    "\n",
    "%load_ext autoreload\n",
    "%autoreload 2"
   ]
  },
  {
   "cell_type": "markdown",
   "metadata": {},
   "source": [
    "# Summarize dataset"
   ]
  },
  {
   "cell_type": "code",
   "execution_count": 2,
   "metadata": {},
   "outputs": [
    {
     "name": "stdout",
     "output_type": "stream",
     "text": [
      "377110 DICOMs in MIMIC-CXR v2.0.0.\n",
      "  227835 studies.\n",
      "  65379 subjects.\n"
     ]
    }
   ],
   "source": [
    "# load in mapping file\n",
    "df = pd.read_csv(METADATA_PATH, header=0, sep=',')\n",
    "\n",
    "n = df.shape[0]\n",
    "print(f'{n} DICOMs in MIMIC-CXR v2.0.0.')\n",
    "\n",
    "n = df['study_id'].nunique()\n",
    "print(f'  {n} studies.')\n",
    "\n",
    "n = df['subject_id'].nunique()\n",
    "print(f'  {n} subjects.')\n",
    "\n",
    "dicoms = set(df['dicom_id'].tolist())"
   ]
  },
  {
   "cell_type": "markdown",
   "metadata": {},
   "source": [
    "# Load dataframes"
   ]
  },
  {
   "cell_type": "code",
   "execution_count": 3,
   "metadata": {},
   "outputs": [],
   "source": [
    "df_split = pd.read_csv(SPLIT_PATH)\n",
    "df_metadata = pd.read_csv(METADATA_PATH)"
   ]
  },
  {
   "cell_type": "code",
   "execution_count": 4,
   "outputs": [
    {
     "data": {
      "text/plain": "                                            dicom_id  subject_id  study_id  \\\n0       02aa804e-bde0afdd-112c0b34-7bc16630-4e384014    10000032  50414267   \n1       174413ec-4ec4c1f7-34ea26b7-c5f994f8-79ef1962    10000032  50414267   \n2       2a2277a9-b0ded155-c0de8eb9-c124d10e-82c5caab    10000032  53189527   \n3       e084de3b-be89b11e-20fe3f9f-9c8d8dfe-4cfd202c    10000032  53189527   \n4       68b5c4b1-227d0485-9cc38c3f-7b84ab51-4b472714    10000032  53911762   \n...                                              ...         ...       ...   \n377105  428e2c18-5721d8f3-35a05001-36f3d080-9053b83c    19999733  57132437   \n377106  58c403aa-35ff8bd9-73e39f54-8dc9cc5d-e0ec3fa9    19999733  57132437   \n377107  58766883-376a15ce-3b323a28-6af950a0-16b793bd    19999987  55368167   \n377108  7ba273af-3d290f8d-e28d0ab4-484b7a86-7fc12b08    19999987  58621812   \n377109  1a1fe7e3-cbac5d93-b339aeda-86bb86b5-4f31e82e    19999987  58971208   \n\n       PerformedProcedureStepDescription ViewPosition  Rows  Columns  \\\n0                     CHEST (PA AND LAT)           PA  3056     2544   \n1                     CHEST (PA AND LAT)      LATERAL  3056     2544   \n2                     CHEST (PA AND LAT)           PA  3056     2544   \n3                     CHEST (PA AND LAT)      LATERAL  3056     2544   \n4                    CHEST (PORTABLE AP)           AP  2705     2539   \n...                                  ...          ...   ...      ...   \n377105                CHEST (PA AND LAT)           PA  3056     2544   \n377106                CHEST (PA AND LAT)      LATERAL  3056     2544   \n377107               CHEST (PORTABLE AP)           AP  2544     3056   \n377108               CHEST (PORTABLE AP)           AP  3056     2544   \n377109               CHEST (PORTABLE AP)           AP  3056     2544   \n\n        StudyDate   StudyTime ProcedureCodeSequence_CodeMeaning  \\\n0        21800506  213014.531                CHEST (PA AND LAT)   \n1        21800506  213014.531                CHEST (PA AND LAT)   \n2        21800626  165500.312                CHEST (PA AND LAT)   \n3        21800626  165500.312                CHEST (PA AND LAT)   \n4        21800723   80556.875               CHEST (PORTABLE AP)   \n...           ...         ...                               ...   \n377105   21520708  224550.171                CHEST (PA AND LAT)   \n377106   21520708  224550.171                CHEST (PA AND LAT)   \n377107   21451104   51448.218               CHEST (PORTABLE AP)   \n377108   21451102  202809.234               CHEST (PORTABLE AP)   \n377109   21451103   50507.625               CHEST (PORTABLE AP)   \n\n       ViewCodeSequence_CodeMeaning PatientOrientationCodeSequence_CodeMeaning  \n0                  postero-anterior                                      Erect  \n1                           lateral                                      Erect  \n2                  postero-anterior                                      Erect  \n3                           lateral                                      Erect  \n4                  antero-posterior                                        NaN  \n...                             ...                                        ...  \n377105             postero-anterior                                      Erect  \n377106                      lateral                                      Erect  \n377107             antero-posterior                                      Erect  \n377108             antero-posterior                                      Erect  \n377109             antero-posterior                                  Recumbent  \n\n[377110 rows x 12 columns]",
      "text/html": "<div>\n<style scoped>\n    .dataframe tbody tr th:only-of-type {\n        vertical-align: middle;\n    }\n\n    .dataframe tbody tr th {\n        vertical-align: top;\n    }\n\n    .dataframe thead th {\n        text-align: right;\n    }\n</style>\n<table border=\"1\" class=\"dataframe\">\n  <thead>\n    <tr style=\"text-align: right;\">\n      <th></th>\n      <th>dicom_id</th>\n      <th>subject_id</th>\n      <th>study_id</th>\n      <th>PerformedProcedureStepDescription</th>\n      <th>ViewPosition</th>\n      <th>Rows</th>\n      <th>Columns</th>\n      <th>StudyDate</th>\n      <th>StudyTime</th>\n      <th>ProcedureCodeSequence_CodeMeaning</th>\n      <th>ViewCodeSequence_CodeMeaning</th>\n      <th>PatientOrientationCodeSequence_CodeMeaning</th>\n    </tr>\n  </thead>\n  <tbody>\n    <tr>\n      <th>0</th>\n      <td>02aa804e-bde0afdd-112c0b34-7bc16630-4e384014</td>\n      <td>10000032</td>\n      <td>50414267</td>\n      <td>CHEST (PA AND LAT)</td>\n      <td>PA</td>\n      <td>3056</td>\n      <td>2544</td>\n      <td>21800506</td>\n      <td>213014.531</td>\n      <td>CHEST (PA AND LAT)</td>\n      <td>postero-anterior</td>\n      <td>Erect</td>\n    </tr>\n    <tr>\n      <th>1</th>\n      <td>174413ec-4ec4c1f7-34ea26b7-c5f994f8-79ef1962</td>\n      <td>10000032</td>\n      <td>50414267</td>\n      <td>CHEST (PA AND LAT)</td>\n      <td>LATERAL</td>\n      <td>3056</td>\n      <td>2544</td>\n      <td>21800506</td>\n      <td>213014.531</td>\n      <td>CHEST (PA AND LAT)</td>\n      <td>lateral</td>\n      <td>Erect</td>\n    </tr>\n    <tr>\n      <th>2</th>\n      <td>2a2277a9-b0ded155-c0de8eb9-c124d10e-82c5caab</td>\n      <td>10000032</td>\n      <td>53189527</td>\n      <td>CHEST (PA AND LAT)</td>\n      <td>PA</td>\n      <td>3056</td>\n      <td>2544</td>\n      <td>21800626</td>\n      <td>165500.312</td>\n      <td>CHEST (PA AND LAT)</td>\n      <td>postero-anterior</td>\n      <td>Erect</td>\n    </tr>\n    <tr>\n      <th>3</th>\n      <td>e084de3b-be89b11e-20fe3f9f-9c8d8dfe-4cfd202c</td>\n      <td>10000032</td>\n      <td>53189527</td>\n      <td>CHEST (PA AND LAT)</td>\n      <td>LATERAL</td>\n      <td>3056</td>\n      <td>2544</td>\n      <td>21800626</td>\n      <td>165500.312</td>\n      <td>CHEST (PA AND LAT)</td>\n      <td>lateral</td>\n      <td>Erect</td>\n    </tr>\n    <tr>\n      <th>4</th>\n      <td>68b5c4b1-227d0485-9cc38c3f-7b84ab51-4b472714</td>\n      <td>10000032</td>\n      <td>53911762</td>\n      <td>CHEST (PORTABLE AP)</td>\n      <td>AP</td>\n      <td>2705</td>\n      <td>2539</td>\n      <td>21800723</td>\n      <td>80556.875</td>\n      <td>CHEST (PORTABLE AP)</td>\n      <td>antero-posterior</td>\n      <td>NaN</td>\n    </tr>\n    <tr>\n      <th>...</th>\n      <td>...</td>\n      <td>...</td>\n      <td>...</td>\n      <td>...</td>\n      <td>...</td>\n      <td>...</td>\n      <td>...</td>\n      <td>...</td>\n      <td>...</td>\n      <td>...</td>\n      <td>...</td>\n      <td>...</td>\n    </tr>\n    <tr>\n      <th>377105</th>\n      <td>428e2c18-5721d8f3-35a05001-36f3d080-9053b83c</td>\n      <td>19999733</td>\n      <td>57132437</td>\n      <td>CHEST (PA AND LAT)</td>\n      <td>PA</td>\n      <td>3056</td>\n      <td>2544</td>\n      <td>21520708</td>\n      <td>224550.171</td>\n      <td>CHEST (PA AND LAT)</td>\n      <td>postero-anterior</td>\n      <td>Erect</td>\n    </tr>\n    <tr>\n      <th>377106</th>\n      <td>58c403aa-35ff8bd9-73e39f54-8dc9cc5d-e0ec3fa9</td>\n      <td>19999733</td>\n      <td>57132437</td>\n      <td>CHEST (PA AND LAT)</td>\n      <td>LATERAL</td>\n      <td>3056</td>\n      <td>2544</td>\n      <td>21520708</td>\n      <td>224550.171</td>\n      <td>CHEST (PA AND LAT)</td>\n      <td>lateral</td>\n      <td>Erect</td>\n    </tr>\n    <tr>\n      <th>377107</th>\n      <td>58766883-376a15ce-3b323a28-6af950a0-16b793bd</td>\n      <td>19999987</td>\n      <td>55368167</td>\n      <td>CHEST (PORTABLE AP)</td>\n      <td>AP</td>\n      <td>2544</td>\n      <td>3056</td>\n      <td>21451104</td>\n      <td>51448.218</td>\n      <td>CHEST (PORTABLE AP)</td>\n      <td>antero-posterior</td>\n      <td>Erect</td>\n    </tr>\n    <tr>\n      <th>377108</th>\n      <td>7ba273af-3d290f8d-e28d0ab4-484b7a86-7fc12b08</td>\n      <td>19999987</td>\n      <td>58621812</td>\n      <td>CHEST (PORTABLE AP)</td>\n      <td>AP</td>\n      <td>3056</td>\n      <td>2544</td>\n      <td>21451102</td>\n      <td>202809.234</td>\n      <td>CHEST (PORTABLE AP)</td>\n      <td>antero-posterior</td>\n      <td>Erect</td>\n    </tr>\n    <tr>\n      <th>377109</th>\n      <td>1a1fe7e3-cbac5d93-b339aeda-86bb86b5-4f31e82e</td>\n      <td>19999987</td>\n      <td>58971208</td>\n      <td>CHEST (PORTABLE AP)</td>\n      <td>AP</td>\n      <td>3056</td>\n      <td>2544</td>\n      <td>21451103</td>\n      <td>50507.625</td>\n      <td>CHEST (PORTABLE AP)</td>\n      <td>antero-posterior</td>\n      <td>Recumbent</td>\n    </tr>\n  </tbody>\n</table>\n<p>377110 rows × 12 columns</p>\n</div>"
     },
     "execution_count": 4,
     "metadata": {},
     "output_type": "execute_result"
    }
   ],
   "source": [
    "df_metadata"
   ],
   "metadata": {
    "collapsed": false,
    "pycharm": {
     "name": "#%%\n"
    }
   }
  },
  {
   "cell_type": "code",
   "execution_count": 8,
   "outputs": [],
   "source": [
    "# initialize view with a mapping from ViewPosition\n",
    "VIEW_MAP = {\n",
    "    'AP': 'frontal',\n",
    "    'PA': 'frontal',\n",
    "    'LATERAL': 'lateral',\n",
    "    'LL': 'lateral',\n",
    "    'LPO': 'other',\n",
    "    'RAO': 'other',\n",
    "    'RPO': 'other',\n",
    "    'LAO': 'other',\n",
    "    # the below are overwritten in some instances by manual review\n",
    "    'AP AXIAL': 'other',\n",
    "    'XTABLE LATERAL': 'other',\n",
    "    'AP LLD': 'other',\n",
    "    'PA LLD': 'other',\n",
    "    'L5 S1': 'other',\n",
    "    'SWIMMERS': 'other',\n",
    "    'AP RLD': 'other',\n",
    "    'PA RLD': 'other',\n",
    "}\n",
    "df_metadata['view'] = df_metadata['ViewPosition'].map(VIEW_MAP)"
   ],
   "metadata": {
    "collapsed": false,
    "pycharm": {
     "name": "#%%\n"
    }
   }
  },
  {
   "cell_type": "code",
   "execution_count": 9,
   "outputs": [
    {
     "data": {
      "text/plain": "                                            dicom_id  subject_id  study_id  \\\n0       02aa804e-bde0afdd-112c0b34-7bc16630-4e384014    10000032  50414267   \n1       174413ec-4ec4c1f7-34ea26b7-c5f994f8-79ef1962    10000032  50414267   \n2       2a2277a9-b0ded155-c0de8eb9-c124d10e-82c5caab    10000032  53189527   \n3       e084de3b-be89b11e-20fe3f9f-9c8d8dfe-4cfd202c    10000032  53189527   \n4       68b5c4b1-227d0485-9cc38c3f-7b84ab51-4b472714    10000032  53911762   \n...                                              ...         ...       ...   \n377105  428e2c18-5721d8f3-35a05001-36f3d080-9053b83c    19999733  57132437   \n377106  58c403aa-35ff8bd9-73e39f54-8dc9cc5d-e0ec3fa9    19999733  57132437   \n377107  58766883-376a15ce-3b323a28-6af950a0-16b793bd    19999987  55368167   \n377108  7ba273af-3d290f8d-e28d0ab4-484b7a86-7fc12b08    19999987  58621812   \n377109  1a1fe7e3-cbac5d93-b339aeda-86bb86b5-4f31e82e    19999987  58971208   \n\n       PerformedProcedureStepDescription ViewPosition  Rows  Columns  \\\n0                     CHEST (PA AND LAT)           PA  3056     2544   \n1                     CHEST (PA AND LAT)      LATERAL  3056     2544   \n2                     CHEST (PA AND LAT)           PA  3056     2544   \n3                     CHEST (PA AND LAT)      LATERAL  3056     2544   \n4                    CHEST (PORTABLE AP)           AP  2705     2539   \n...                                  ...          ...   ...      ...   \n377105                CHEST (PA AND LAT)           PA  3056     2544   \n377106                CHEST (PA AND LAT)      LATERAL  3056     2544   \n377107               CHEST (PORTABLE AP)           AP  2544     3056   \n377108               CHEST (PORTABLE AP)           AP  3056     2544   \n377109               CHEST (PORTABLE AP)           AP  3056     2544   \n\n        StudyDate   StudyTime ProcedureCodeSequence_CodeMeaning  \\\n0        21800506  213014.531                CHEST (PA AND LAT)   \n1        21800506  213014.531                CHEST (PA AND LAT)   \n2        21800626  165500.312                CHEST (PA AND LAT)   \n3        21800626  165500.312                CHEST (PA AND LAT)   \n4        21800723   80556.875               CHEST (PORTABLE AP)   \n...           ...         ...                               ...   \n377105   21520708  224550.171                CHEST (PA AND LAT)   \n377106   21520708  224550.171                CHEST (PA AND LAT)   \n377107   21451104   51448.218               CHEST (PORTABLE AP)   \n377108   21451102  202809.234               CHEST (PORTABLE AP)   \n377109   21451103   50507.625               CHEST (PORTABLE AP)   \n\n       ViewCodeSequence_CodeMeaning  \\\n0                  postero-anterior   \n1                           lateral   \n2                  postero-anterior   \n3                           lateral   \n4                  antero-posterior   \n...                             ...   \n377105             postero-anterior   \n377106                      lateral   \n377107             antero-posterior   \n377108             antero-posterior   \n377109             antero-posterior   \n\n       PatientOrientationCodeSequence_CodeMeaning     view  \n0                                           Erect  frontal  \n1                                           Erect  lateral  \n2                                           Erect  frontal  \n3                                           Erect  lateral  \n4                                             NaN  frontal  \n...                                           ...      ...  \n377105                                      Erect  frontal  \n377106                                      Erect  lateral  \n377107                                      Erect  frontal  \n377108                                      Erect  frontal  \n377109                                  Recumbent  frontal  \n\n[377110 rows x 13 columns]",
      "text/html": "<div>\n<style scoped>\n    .dataframe tbody tr th:only-of-type {\n        vertical-align: middle;\n    }\n\n    .dataframe tbody tr th {\n        vertical-align: top;\n    }\n\n    .dataframe thead th {\n        text-align: right;\n    }\n</style>\n<table border=\"1\" class=\"dataframe\">\n  <thead>\n    <tr style=\"text-align: right;\">\n      <th></th>\n      <th>dicom_id</th>\n      <th>subject_id</th>\n      <th>study_id</th>\n      <th>PerformedProcedureStepDescription</th>\n      <th>ViewPosition</th>\n      <th>Rows</th>\n      <th>Columns</th>\n      <th>StudyDate</th>\n      <th>StudyTime</th>\n      <th>ProcedureCodeSequence_CodeMeaning</th>\n      <th>ViewCodeSequence_CodeMeaning</th>\n      <th>PatientOrientationCodeSequence_CodeMeaning</th>\n      <th>view</th>\n    </tr>\n  </thead>\n  <tbody>\n    <tr>\n      <th>0</th>\n      <td>02aa804e-bde0afdd-112c0b34-7bc16630-4e384014</td>\n      <td>10000032</td>\n      <td>50414267</td>\n      <td>CHEST (PA AND LAT)</td>\n      <td>PA</td>\n      <td>3056</td>\n      <td>2544</td>\n      <td>21800506</td>\n      <td>213014.531</td>\n      <td>CHEST (PA AND LAT)</td>\n      <td>postero-anterior</td>\n      <td>Erect</td>\n      <td>frontal</td>\n    </tr>\n    <tr>\n      <th>1</th>\n      <td>174413ec-4ec4c1f7-34ea26b7-c5f994f8-79ef1962</td>\n      <td>10000032</td>\n      <td>50414267</td>\n      <td>CHEST (PA AND LAT)</td>\n      <td>LATERAL</td>\n      <td>3056</td>\n      <td>2544</td>\n      <td>21800506</td>\n      <td>213014.531</td>\n      <td>CHEST (PA AND LAT)</td>\n      <td>lateral</td>\n      <td>Erect</td>\n      <td>lateral</td>\n    </tr>\n    <tr>\n      <th>2</th>\n      <td>2a2277a9-b0ded155-c0de8eb9-c124d10e-82c5caab</td>\n      <td>10000032</td>\n      <td>53189527</td>\n      <td>CHEST (PA AND LAT)</td>\n      <td>PA</td>\n      <td>3056</td>\n      <td>2544</td>\n      <td>21800626</td>\n      <td>165500.312</td>\n      <td>CHEST (PA AND LAT)</td>\n      <td>postero-anterior</td>\n      <td>Erect</td>\n      <td>frontal</td>\n    </tr>\n    <tr>\n      <th>3</th>\n      <td>e084de3b-be89b11e-20fe3f9f-9c8d8dfe-4cfd202c</td>\n      <td>10000032</td>\n      <td>53189527</td>\n      <td>CHEST (PA AND LAT)</td>\n      <td>LATERAL</td>\n      <td>3056</td>\n      <td>2544</td>\n      <td>21800626</td>\n      <td>165500.312</td>\n      <td>CHEST (PA AND LAT)</td>\n      <td>lateral</td>\n      <td>Erect</td>\n      <td>lateral</td>\n    </tr>\n    <tr>\n      <th>4</th>\n      <td>68b5c4b1-227d0485-9cc38c3f-7b84ab51-4b472714</td>\n      <td>10000032</td>\n      <td>53911762</td>\n      <td>CHEST (PORTABLE AP)</td>\n      <td>AP</td>\n      <td>2705</td>\n      <td>2539</td>\n      <td>21800723</td>\n      <td>80556.875</td>\n      <td>CHEST (PORTABLE AP)</td>\n      <td>antero-posterior</td>\n      <td>NaN</td>\n      <td>frontal</td>\n    </tr>\n    <tr>\n      <th>...</th>\n      <td>...</td>\n      <td>...</td>\n      <td>...</td>\n      <td>...</td>\n      <td>...</td>\n      <td>...</td>\n      <td>...</td>\n      <td>...</td>\n      <td>...</td>\n      <td>...</td>\n      <td>...</td>\n      <td>...</td>\n      <td>...</td>\n    </tr>\n    <tr>\n      <th>377105</th>\n      <td>428e2c18-5721d8f3-35a05001-36f3d080-9053b83c</td>\n      <td>19999733</td>\n      <td>57132437</td>\n      <td>CHEST (PA AND LAT)</td>\n      <td>PA</td>\n      <td>3056</td>\n      <td>2544</td>\n      <td>21520708</td>\n      <td>224550.171</td>\n      <td>CHEST (PA AND LAT)</td>\n      <td>postero-anterior</td>\n      <td>Erect</td>\n      <td>frontal</td>\n    </tr>\n    <tr>\n      <th>377106</th>\n      <td>58c403aa-35ff8bd9-73e39f54-8dc9cc5d-e0ec3fa9</td>\n      <td>19999733</td>\n      <td>57132437</td>\n      <td>CHEST (PA AND LAT)</td>\n      <td>LATERAL</td>\n      <td>3056</td>\n      <td>2544</td>\n      <td>21520708</td>\n      <td>224550.171</td>\n      <td>CHEST (PA AND LAT)</td>\n      <td>lateral</td>\n      <td>Erect</td>\n      <td>lateral</td>\n    </tr>\n    <tr>\n      <th>377107</th>\n      <td>58766883-376a15ce-3b323a28-6af950a0-16b793bd</td>\n      <td>19999987</td>\n      <td>55368167</td>\n      <td>CHEST (PORTABLE AP)</td>\n      <td>AP</td>\n      <td>2544</td>\n      <td>3056</td>\n      <td>21451104</td>\n      <td>51448.218</td>\n      <td>CHEST (PORTABLE AP)</td>\n      <td>antero-posterior</td>\n      <td>Erect</td>\n      <td>frontal</td>\n    </tr>\n    <tr>\n      <th>377108</th>\n      <td>7ba273af-3d290f8d-e28d0ab4-484b7a86-7fc12b08</td>\n      <td>19999987</td>\n      <td>58621812</td>\n      <td>CHEST (PORTABLE AP)</td>\n      <td>AP</td>\n      <td>3056</td>\n      <td>2544</td>\n      <td>21451102</td>\n      <td>202809.234</td>\n      <td>CHEST (PORTABLE AP)</td>\n      <td>antero-posterior</td>\n      <td>Erect</td>\n      <td>frontal</td>\n    </tr>\n    <tr>\n      <th>377109</th>\n      <td>1a1fe7e3-cbac5d93-b339aeda-86bb86b5-4f31e82e</td>\n      <td>19999987</td>\n      <td>58971208</td>\n      <td>CHEST (PORTABLE AP)</td>\n      <td>AP</td>\n      <td>3056</td>\n      <td>2544</td>\n      <td>21451103</td>\n      <td>50507.625</td>\n      <td>CHEST (PORTABLE AP)</td>\n      <td>antero-posterior</td>\n      <td>Recumbent</td>\n      <td>frontal</td>\n    </tr>\n  </tbody>\n</table>\n<p>377110 rows × 13 columns</p>\n</div>"
     },
     "execution_count": 9,
     "metadata": {},
     "output_type": "execute_result"
    }
   ],
   "source": [
    "df_metadata"
   ],
   "metadata": {
    "collapsed": false,
    "pycharm": {
     "name": "#%%\n"
    }
   }
  },
  {
   "cell_type": "code",
   "execution_count": 11,
   "outputs": [
    {
     "name": "stderr",
     "output_type": "stream",
     "text": [
      "C:\\Users\\itama\\AppData\\Local\\Temp\\ipykernel_10032\\1881236261.py:60: FutureWarning: In future versions `DataFrame.to_latex` is expected to utilise the base implementation of `Styler.to_latex` for formatting and rendering. The arguments signature may therefore change. It is recommended instead to use `DataFrame.style.to_latex` which also contains additional functionality.\n",
      "  tbl.to_latex('table2.tex')\n"
     ]
    },
    {
     "data": {
      "text/plain": "                             train      validate          test\nNumber of images            353622          2867          4837\nfrontal             237973 (67.3%)  1959 (68.3%)  3405 (70.4%)\nlateral             115649 (32.7%)   908 (31.7%)  1432 (29.6%)\nNumber of studies           222758          1808          3269\n  with a finding    170420 (76.5%)  1394 (77.1%)  2912 (89.1%)\nNumber of patients           64586           500           293\n  with a finding     44157 (68.4%)   344 (68.8%)   288 (98.3%)",
      "text/html": "<div>\n<style scoped>\n    .dataframe tbody tr th:only-of-type {\n        vertical-align: middle;\n    }\n\n    .dataframe tbody tr th {\n        vertical-align: top;\n    }\n\n    .dataframe thead th {\n        text-align: right;\n    }\n</style>\n<table border=\"1\" class=\"dataframe\">\n  <thead>\n    <tr style=\"text-align: right;\">\n      <th></th>\n      <th>train</th>\n      <th>validate</th>\n      <th>test</th>\n    </tr>\n  </thead>\n  <tbody>\n    <tr>\n      <th>Number of images</th>\n      <td>353622</td>\n      <td>2867</td>\n      <td>4837</td>\n    </tr>\n    <tr>\n      <th>frontal</th>\n      <td>237973 (67.3%)</td>\n      <td>1959 (68.3%)</td>\n      <td>3405 (70.4%)</td>\n    </tr>\n    <tr>\n      <th>lateral</th>\n      <td>115649 (32.7%)</td>\n      <td>908 (31.7%)</td>\n      <td>1432 (29.6%)</td>\n    </tr>\n    <tr>\n      <th>Number of studies</th>\n      <td>222758</td>\n      <td>1808</td>\n      <td>3269</td>\n    </tr>\n    <tr>\n      <th>with a finding</th>\n      <td>170420 (76.5%)</td>\n      <td>1394 (77.1%)</td>\n      <td>2912 (89.1%)</td>\n    </tr>\n    <tr>\n      <th>Number of patients</th>\n      <td>64586</td>\n      <td>500</td>\n      <td>293</td>\n    </tr>\n    <tr>\n      <th>with a finding</th>\n      <td>44157 (68.4%)</td>\n      <td>344 (68.8%)</td>\n      <td>288 (98.3%)</td>\n    </tr>\n  </tbody>\n</table>\n</div>"
     },
     "execution_count": 11,
     "metadata": {},
     "output_type": "execute_result"
    }
   ],
   "source": [
    "splits = ['train', 'validate', 'test']\n",
    "split_views = df.groupby(['split', 'view'])[['dicom_id']].count()\n",
    "\n",
    "row_idx = ['frontal', 'lateral']\n",
    "\n",
    "# number of images in each set\n",
    "n_images = {}\n",
    "for c in splits:\n",
    "    n_images[c] = split_views.loc[c].loc[row_idx, 'dicom_id'].sum()\n",
    "\n",
    "tbl = pd.DataFrame.from_dict(n_images, orient='index')\n",
    "tbl.columns = ['Number of images']\n",
    "tbl = tbl.T\n",
    "\n",
    "# number of images in each set for each view\n",
    "n_images = {}\n",
    "for c in splits:\n",
    "    n_images[c] = {}\n",
    "    for view in row_idx:\n",
    "        n_images[c][view] = split_views.loc[c].loc[view, 'dicom_id']\n",
    "n_images = pd.DataFrame.from_dict(n_images, orient='index')\n",
    "n_images = n_images.T\n",
    "\n",
    "\n",
    "# convert frontal/lateral/other into \"N (%)\"\n",
    "for i in n_images.index:\n",
    "    for c in splits:\n",
    "        val = n_images.loc[i, c]\n",
    "        n_images.loc[i, c] = f'{val} ({100.0*val/tbl.loc[\"Number of images\", c]:3.1f}%)'\n",
    "\n",
    "tbl = pd.concat([tbl, n_images], axis=0, sort=False)\n",
    "\n",
    "# add in the number of subjects\n",
    "n_studies = df.groupby('split')[['study_id']].nunique().T\n",
    "n_studies.index = ['Number of studies']\n",
    "tbl = pd.concat([tbl, n_studies], axis=0, sort=False)\n",
    "\n",
    "# studies with a finding\n",
    "n_studies = df.loc[df['has_negbio_finding']].groupby('split')[['study_id']].nunique().T\n",
    "n_studies.index = ['  with a finding']\n",
    "for c in splits:\n",
    "    val = n_studies.loc['  with a finding', c]\n",
    "    n_studies.loc['  with a finding', c] = f'{val} ({100.0*val/tbl.loc[\"Number of studies\", c]:3.1f}%)'\n",
    "tbl = pd.concat([tbl, n_studies], axis=0, sort=False)\n",
    "\n",
    "# patients\n",
    "n_pt = df.groupby('split')[['subject_id']].nunique().T\n",
    "n_pt.index = ['Number of patients']\n",
    "tbl = pd.concat([tbl, n_pt], axis=0, sort=False)\n",
    "\n",
    "\n",
    "# patients with a finding\n",
    "n_studies = df.loc[df['has_negbio_finding']].groupby('split')[['subject_id']].nunique().T\n",
    "n_studies.index = ['  with a finding']\n",
    "for c in splits:\n",
    "    val = n_studies.loc['  with a finding', c]\n",
    "    n_studies.loc['  with a finding', c] = f'{val} ({100.0*val/tbl.loc[\"Number of patients\", c]:3.1f}%)'\n",
    "tbl = pd.concat([tbl, n_studies], axis=0, sort=False)\n",
    "\n",
    "tbl.to_latex('table2.tex')\n",
    "\n",
    "tbl"
   ],
   "metadata": {
    "collapsed": false,
    "pycharm": {
     "name": "#%%\n"
    }
   }
  },
  {
   "cell_type": "code",
   "execution_count": 18,
   "outputs": [
    {
     "data": {
      "text/plain": " NaN    0.616937\n 1.0    0.234138\n 0.0    0.120872\n-1.0    0.028052\nName: Pleural Effusion, dtype: float64"
     },
     "execution_count": 18,
     "metadata": {},
     "output_type": "execute_result"
    }
   ],
   "source": [
    "nb['Pleural Effusion'].value_counts(dropna=False, normalize=True)"
   ],
   "metadata": {
    "collapsed": false,
    "pycharm": {
     "name": "#%%\n"
    }
   }
  },
  {
   "cell_type": "code",
   "execution_count": 19,
   "outputs": [
    {
     "data": {
      "text/plain": "        subject_id  study_id  Atelectasis  Cardiomegaly  Consolidation  Edema  \\\n0         10000032  50414267          NaN           NaN            NaN    NaN   \n1         10000032  53189527          NaN           NaN            NaN    NaN   \n2         10000032  53911762          NaN           NaN            NaN    NaN   \n3         10000032  56699142          NaN           NaN            NaN    NaN   \n4         10000764  57375967          NaN           NaN            1.0    NaN   \n...            ...       ...          ...           ...            ...    ...   \n227822    19999442  58708861          NaN           NaN            NaN    NaN   \n227823    19999733  57132437          NaN           NaN            NaN    NaN   \n227824    19999987  55368167          1.0          -1.0            NaN    NaN   \n227825    19999987  58621812          1.0           NaN            NaN    NaN   \n227826    19999987  58971208          1.0           NaN            NaN    NaN   \n\n        Enlarged Cardiomediastinum  Fracture  Lung Lesion  Lung Opacity  \\\n0                              NaN       NaN          NaN           NaN   \n1                              NaN       NaN          NaN           NaN   \n2                              NaN       NaN          NaN           NaN   \n3                              NaN       NaN          NaN           NaN   \n4                              NaN       NaN          NaN           NaN   \n...                            ...       ...          ...           ...   \n227822                         NaN       NaN          NaN           NaN   \n227823                         NaN       NaN          NaN           NaN   \n227824                         NaN       NaN          0.0           NaN   \n227825                         NaN       NaN          NaN           NaN   \n227826                         NaN       NaN          NaN           NaN   \n\n        No Finding  Pleural Effusion  Pleural Other  Pneumonia  Pneumothorax  \\\n0              1.0               NaN            NaN        NaN           NaN   \n1              1.0               NaN            NaN        NaN           NaN   \n2              1.0               NaN            NaN        NaN           NaN   \n3              1.0               NaN            NaN        NaN           NaN   \n4              NaN               NaN            NaN       -1.0           NaN   \n...            ...               ...            ...        ...           ...   \n227822         1.0               NaN            NaN        NaN           NaN   \n227823         1.0               NaN            NaN        NaN           NaN   \n227824         NaN               0.0            NaN        NaN           0.0   \n227825         NaN               NaN            NaN        NaN           NaN   \n227826         NaN               NaN            NaN        NaN           NaN   \n\n        Support Devices  \n0                   NaN  \n1                   NaN  \n2                   NaN  \n3                   NaN  \n4                   NaN  \n...                 ...  \n227822              1.0  \n227823              NaN  \n227824              NaN  \n227825              1.0  \n227826              NaN  \n\n[227827 rows x 16 columns]",
      "text/html": "<div>\n<style scoped>\n    .dataframe tbody tr th:only-of-type {\n        vertical-align: middle;\n    }\n\n    .dataframe tbody tr th {\n        vertical-align: top;\n    }\n\n    .dataframe thead th {\n        text-align: right;\n    }\n</style>\n<table border=\"1\" class=\"dataframe\">\n  <thead>\n    <tr style=\"text-align: right;\">\n      <th></th>\n      <th>subject_id</th>\n      <th>study_id</th>\n      <th>Atelectasis</th>\n      <th>Cardiomegaly</th>\n      <th>Consolidation</th>\n      <th>Edema</th>\n      <th>Enlarged Cardiomediastinum</th>\n      <th>Fracture</th>\n      <th>Lung Lesion</th>\n      <th>Lung Opacity</th>\n      <th>No Finding</th>\n      <th>Pleural Effusion</th>\n      <th>Pleural Other</th>\n      <th>Pneumonia</th>\n      <th>Pneumothorax</th>\n      <th>Support Devices</th>\n    </tr>\n  </thead>\n  <tbody>\n    <tr>\n      <th>0</th>\n      <td>10000032</td>\n      <td>50414267</td>\n      <td>NaN</td>\n      <td>NaN</td>\n      <td>NaN</td>\n      <td>NaN</td>\n      <td>NaN</td>\n      <td>NaN</td>\n      <td>NaN</td>\n      <td>NaN</td>\n      <td>1.0</td>\n      <td>NaN</td>\n      <td>NaN</td>\n      <td>NaN</td>\n      <td>NaN</td>\n      <td>NaN</td>\n    </tr>\n    <tr>\n      <th>1</th>\n      <td>10000032</td>\n      <td>53189527</td>\n      <td>NaN</td>\n      <td>NaN</td>\n      <td>NaN</td>\n      <td>NaN</td>\n      <td>NaN</td>\n      <td>NaN</td>\n      <td>NaN</td>\n      <td>NaN</td>\n      <td>1.0</td>\n      <td>NaN</td>\n      <td>NaN</td>\n      <td>NaN</td>\n      <td>NaN</td>\n      <td>NaN</td>\n    </tr>\n    <tr>\n      <th>2</th>\n      <td>10000032</td>\n      <td>53911762</td>\n      <td>NaN</td>\n      <td>NaN</td>\n      <td>NaN</td>\n      <td>NaN</td>\n      <td>NaN</td>\n      <td>NaN</td>\n      <td>NaN</td>\n      <td>NaN</td>\n      <td>1.0</td>\n      <td>NaN</td>\n      <td>NaN</td>\n      <td>NaN</td>\n      <td>NaN</td>\n      <td>NaN</td>\n    </tr>\n    <tr>\n      <th>3</th>\n      <td>10000032</td>\n      <td>56699142</td>\n      <td>NaN</td>\n      <td>NaN</td>\n      <td>NaN</td>\n      <td>NaN</td>\n      <td>NaN</td>\n      <td>NaN</td>\n      <td>NaN</td>\n      <td>NaN</td>\n      <td>1.0</td>\n      <td>NaN</td>\n      <td>NaN</td>\n      <td>NaN</td>\n      <td>NaN</td>\n      <td>NaN</td>\n    </tr>\n    <tr>\n      <th>4</th>\n      <td>10000764</td>\n      <td>57375967</td>\n      <td>NaN</td>\n      <td>NaN</td>\n      <td>1.0</td>\n      <td>NaN</td>\n      <td>NaN</td>\n      <td>NaN</td>\n      <td>NaN</td>\n      <td>NaN</td>\n      <td>NaN</td>\n      <td>NaN</td>\n      <td>NaN</td>\n      <td>-1.0</td>\n      <td>NaN</td>\n      <td>NaN</td>\n    </tr>\n    <tr>\n      <th>...</th>\n      <td>...</td>\n      <td>...</td>\n      <td>...</td>\n      <td>...</td>\n      <td>...</td>\n      <td>...</td>\n      <td>...</td>\n      <td>...</td>\n      <td>...</td>\n      <td>...</td>\n      <td>...</td>\n      <td>...</td>\n      <td>...</td>\n      <td>...</td>\n      <td>...</td>\n      <td>...</td>\n    </tr>\n    <tr>\n      <th>227822</th>\n      <td>19999442</td>\n      <td>58708861</td>\n      <td>NaN</td>\n      <td>NaN</td>\n      <td>NaN</td>\n      <td>NaN</td>\n      <td>NaN</td>\n      <td>NaN</td>\n      <td>NaN</td>\n      <td>NaN</td>\n      <td>1.0</td>\n      <td>NaN</td>\n      <td>NaN</td>\n      <td>NaN</td>\n      <td>NaN</td>\n      <td>1.0</td>\n    </tr>\n    <tr>\n      <th>227823</th>\n      <td>19999733</td>\n      <td>57132437</td>\n      <td>NaN</td>\n      <td>NaN</td>\n      <td>NaN</td>\n      <td>NaN</td>\n      <td>NaN</td>\n      <td>NaN</td>\n      <td>NaN</td>\n      <td>NaN</td>\n      <td>1.0</td>\n      <td>NaN</td>\n      <td>NaN</td>\n      <td>NaN</td>\n      <td>NaN</td>\n      <td>NaN</td>\n    </tr>\n    <tr>\n      <th>227824</th>\n      <td>19999987</td>\n      <td>55368167</td>\n      <td>1.0</td>\n      <td>-1.0</td>\n      <td>NaN</td>\n      <td>NaN</td>\n      <td>NaN</td>\n      <td>NaN</td>\n      <td>0.0</td>\n      <td>NaN</td>\n      <td>NaN</td>\n      <td>0.0</td>\n      <td>NaN</td>\n      <td>NaN</td>\n      <td>0.0</td>\n      <td>NaN</td>\n    </tr>\n    <tr>\n      <th>227825</th>\n      <td>19999987</td>\n      <td>58621812</td>\n      <td>1.0</td>\n      <td>NaN</td>\n      <td>NaN</td>\n      <td>NaN</td>\n      <td>NaN</td>\n      <td>NaN</td>\n      <td>NaN</td>\n      <td>NaN</td>\n      <td>NaN</td>\n      <td>NaN</td>\n      <td>NaN</td>\n      <td>NaN</td>\n      <td>NaN</td>\n      <td>1.0</td>\n    </tr>\n    <tr>\n      <th>227826</th>\n      <td>19999987</td>\n      <td>58971208</td>\n      <td>1.0</td>\n      <td>NaN</td>\n      <td>NaN</td>\n      <td>NaN</td>\n      <td>NaN</td>\n      <td>NaN</td>\n      <td>NaN</td>\n      <td>NaN</td>\n      <td>NaN</td>\n      <td>NaN</td>\n      <td>NaN</td>\n      <td>NaN</td>\n      <td>NaN</td>\n      <td>NaN</td>\n    </tr>\n  </tbody>\n</table>\n<p>227827 rows × 16 columns</p>\n</div>"
     },
     "execution_count": 19,
     "metadata": {},
     "output_type": "execute_result"
    }
   ],
   "source": [
    "nb"
   ],
   "metadata": {
    "collapsed": false,
    "pycharm": {
     "name": "#%%\n"
    }
   }
  },
  {
   "cell_type": "markdown",
   "metadata": {},
   "source": [
    "# Frequency of findings"
   ]
  },
  {
   "cell_type": "code",
   "execution_count": 12,
   "metadata": {
    "scrolled": true
   },
   "outputs": [
    {
     "data": {
      "text/plain": "   subject_id  study_id Atelectasis Cardiomegaly Consolidation      Edema  \\\n0    10000032  50414267         NaN          NaN           NaN        NaN   \n1    10000032  53189527         NaN          NaN           NaN        NaN   \n2    10000032  53911762         NaN          NaN           NaN        NaN   \n3    10000032  56699142         NaN          NaN           NaN        NaN   \n4    10000764  57375967         NaN          NaN      Positive        NaN   \n5    10000898  50771383         NaN          NaN           NaN        NaN   \n6    10000898  54205396         NaN          NaN           NaN        NaN   \n7    10000935  50578979         NaN          NaN           NaN  Uncertain   \n8    10000935  51178377         NaN          NaN           NaN        NaN   \n9    10000935  55697293         NaN          NaN           NaN        NaN   \n\n  Enlarged Cardiomediastinum Fracture Lung Lesion  Lung Opacity No Finding  \\\n0                        NaN      NaN         NaN           NaN   Positive   \n1                        NaN      NaN         NaN           NaN   Positive   \n2                        NaN      NaN         NaN           NaN   Positive   \n3                        NaN      NaN         NaN           NaN   Positive   \n4                        NaN      NaN         NaN           NaN        NaN   \n5                        NaN      NaN         NaN           NaN   Positive   \n6                        NaN      NaN         NaN           NaN   Positive   \n7                        NaN      NaN         NaN  Disagreement        NaN   \n8                        NaN      NaN         NaN      Positive        NaN   \n9                        NaN      NaN         NaN           NaN   Positive   \n\n  Pleural Effusion Pleural Other  Pneumonia Pneumothorax Support Devices  \n0              NaN           NaN        NaN          NaN             NaN  \n1              NaN           NaN        NaN          NaN             NaN  \n2              NaN           NaN        NaN          NaN             NaN  \n3              NaN           NaN        NaN          NaN             NaN  \n4              NaN           NaN  Uncertain          NaN             NaN  \n5              NaN           NaN        NaN          NaN             NaN  \n6              NaN           NaN        NaN          NaN             NaN  \n7         Positive           NaN   Positive          NaN             NaN  \n8              NaN           NaN  Uncertain          NaN             NaN  \n9              NaN           NaN        NaN          NaN             NaN  ",
      "text/html": "<div>\n<style scoped>\n    .dataframe tbody tr th:only-of-type {\n        vertical-align: middle;\n    }\n\n    .dataframe tbody tr th {\n        vertical-align: top;\n    }\n\n    .dataframe thead th {\n        text-align: right;\n    }\n</style>\n<table border=\"1\" class=\"dataframe\">\n  <thead>\n    <tr style=\"text-align: right;\">\n      <th></th>\n      <th>subject_id</th>\n      <th>study_id</th>\n      <th>Atelectasis</th>\n      <th>Cardiomegaly</th>\n      <th>Consolidation</th>\n      <th>Edema</th>\n      <th>Enlarged Cardiomediastinum</th>\n      <th>Fracture</th>\n      <th>Lung Lesion</th>\n      <th>Lung Opacity</th>\n      <th>No Finding</th>\n      <th>Pleural Effusion</th>\n      <th>Pleural Other</th>\n      <th>Pneumonia</th>\n      <th>Pneumothorax</th>\n      <th>Support Devices</th>\n    </tr>\n  </thead>\n  <tbody>\n    <tr>\n      <th>0</th>\n      <td>10000032</td>\n      <td>50414267</td>\n      <td>NaN</td>\n      <td>NaN</td>\n      <td>NaN</td>\n      <td>NaN</td>\n      <td>NaN</td>\n      <td>NaN</td>\n      <td>NaN</td>\n      <td>NaN</td>\n      <td>Positive</td>\n      <td>NaN</td>\n      <td>NaN</td>\n      <td>NaN</td>\n      <td>NaN</td>\n      <td>NaN</td>\n    </tr>\n    <tr>\n      <th>1</th>\n      <td>10000032</td>\n      <td>53189527</td>\n      <td>NaN</td>\n      <td>NaN</td>\n      <td>NaN</td>\n      <td>NaN</td>\n      <td>NaN</td>\n      <td>NaN</td>\n      <td>NaN</td>\n      <td>NaN</td>\n      <td>Positive</td>\n      <td>NaN</td>\n      <td>NaN</td>\n      <td>NaN</td>\n      <td>NaN</td>\n      <td>NaN</td>\n    </tr>\n    <tr>\n      <th>2</th>\n      <td>10000032</td>\n      <td>53911762</td>\n      <td>NaN</td>\n      <td>NaN</td>\n      <td>NaN</td>\n      <td>NaN</td>\n      <td>NaN</td>\n      <td>NaN</td>\n      <td>NaN</td>\n      <td>NaN</td>\n      <td>Positive</td>\n      <td>NaN</td>\n      <td>NaN</td>\n      <td>NaN</td>\n      <td>NaN</td>\n      <td>NaN</td>\n    </tr>\n    <tr>\n      <th>3</th>\n      <td>10000032</td>\n      <td>56699142</td>\n      <td>NaN</td>\n      <td>NaN</td>\n      <td>NaN</td>\n      <td>NaN</td>\n      <td>NaN</td>\n      <td>NaN</td>\n      <td>NaN</td>\n      <td>NaN</td>\n      <td>Positive</td>\n      <td>NaN</td>\n      <td>NaN</td>\n      <td>NaN</td>\n      <td>NaN</td>\n      <td>NaN</td>\n    </tr>\n    <tr>\n      <th>4</th>\n      <td>10000764</td>\n      <td>57375967</td>\n      <td>NaN</td>\n      <td>NaN</td>\n      <td>Positive</td>\n      <td>NaN</td>\n      <td>NaN</td>\n      <td>NaN</td>\n      <td>NaN</td>\n      <td>NaN</td>\n      <td>NaN</td>\n      <td>NaN</td>\n      <td>NaN</td>\n      <td>Uncertain</td>\n      <td>NaN</td>\n      <td>NaN</td>\n    </tr>\n    <tr>\n      <th>5</th>\n      <td>10000898</td>\n      <td>50771383</td>\n      <td>NaN</td>\n      <td>NaN</td>\n      <td>NaN</td>\n      <td>NaN</td>\n      <td>NaN</td>\n      <td>NaN</td>\n      <td>NaN</td>\n      <td>NaN</td>\n      <td>Positive</td>\n      <td>NaN</td>\n      <td>NaN</td>\n      <td>NaN</td>\n      <td>NaN</td>\n      <td>NaN</td>\n    </tr>\n    <tr>\n      <th>6</th>\n      <td>10000898</td>\n      <td>54205396</td>\n      <td>NaN</td>\n      <td>NaN</td>\n      <td>NaN</td>\n      <td>NaN</td>\n      <td>NaN</td>\n      <td>NaN</td>\n      <td>NaN</td>\n      <td>NaN</td>\n      <td>Positive</td>\n      <td>NaN</td>\n      <td>NaN</td>\n      <td>NaN</td>\n      <td>NaN</td>\n      <td>NaN</td>\n    </tr>\n    <tr>\n      <th>7</th>\n      <td>10000935</td>\n      <td>50578979</td>\n      <td>NaN</td>\n      <td>NaN</td>\n      <td>NaN</td>\n      <td>Uncertain</td>\n      <td>NaN</td>\n      <td>NaN</td>\n      <td>NaN</td>\n      <td>Disagreement</td>\n      <td>NaN</td>\n      <td>Positive</td>\n      <td>NaN</td>\n      <td>Positive</td>\n      <td>NaN</td>\n      <td>NaN</td>\n    </tr>\n    <tr>\n      <th>8</th>\n      <td>10000935</td>\n      <td>51178377</td>\n      <td>NaN</td>\n      <td>NaN</td>\n      <td>NaN</td>\n      <td>NaN</td>\n      <td>NaN</td>\n      <td>NaN</td>\n      <td>NaN</td>\n      <td>Positive</td>\n      <td>NaN</td>\n      <td>NaN</td>\n      <td>NaN</td>\n      <td>Uncertain</td>\n      <td>NaN</td>\n      <td>NaN</td>\n    </tr>\n    <tr>\n      <th>9</th>\n      <td>10000935</td>\n      <td>55697293</td>\n      <td>NaN</td>\n      <td>NaN</td>\n      <td>NaN</td>\n      <td>NaN</td>\n      <td>NaN</td>\n      <td>NaN</td>\n      <td>NaN</td>\n      <td>NaN</td>\n      <td>Positive</td>\n      <td>NaN</td>\n      <td>NaN</td>\n      <td>NaN</td>\n      <td>NaN</td>\n      <td>NaN</td>\n    </tr>\n  </tbody>\n</table>\n</div>"
     },
     "metadata": {},
     "output_type": "display_data"
    },
    {
     "name": "stdout",
     "output_type": "stream",
     "text": [
      "Frequency of labels in MIMIC-CXR-JPG on the training subset of 222,750 unique radiologic studies.\n"
     ]
    },
    {
     "name": "stderr",
     "output_type": "stream",
     "text": [
      "C:\\Users\\itama\\AppData\\Local\\Temp\\ipykernel_10032\\2665710579.py:78: FutureWarning: In future versions `DataFrame.to_latex` is expected to utilise the base implementation of `Styler.to_latex` for formatting and rendering. The arguments signature may therefore change. It is recommended instead to use `DataFrame.style.to_latex` which also contains additional functionality.\n",
      "  tbl.to_latex('findings_frequency.tex')\n"
     ]
    },
    {
     "data": {
      "text/plain": "                                  Positive          Negative        Uncertain  \\\nAtelectasis                 44,012 (19.8%)      921.0 (0.4%)   9,623.0 (4.3%)   \nCardiomegaly                38,002 (17.1%)   15,563.0 (7.0%)   5,753.0 (2.6%)   \nConsolidation                10,199 (4.6%)    7,791.0 (3.5%)   2,913.0 (1.3%)   \nEdema                       25,549 (11.5%)  24,746.0 (11.1%)  11,426.0 (5.1%)   \nEnlarged Cardiomediastinum    6,798 (3.1%)    5,158.0 (2.3%)   9,015.0 (4.0%)   \nFracture                      3,675 (1.6%)      871.0 (0.4%)     295.0 (0.1%)   \nLung Lesion                   5,939 (2.7%)      822.0 (0.4%)     996.0 (0.4%)   \nLung Opacity                49,512 (22.2%)    2,794.0 (1.3%)   2,052.0 (0.9%)   \nNo Finding                  74,019 (33.2%)        nan (nan%)       nan (nan%)   \nPleural Effusion            51,680 (23.2%)  26,532.0 (11.9%)   5,184.0 (2.3%)   \nPleural Other                 1,884 (0.8%)      120.0 (0.1%)     707.0 (0.3%)   \nPneumonia                    15,333 (6.9%)  23,771.0 (10.7%)  17,313.0 (7.8%)   \nPneumothorax                  9,159 (4.1%)  41,250.0 (18.5%)     848.0 (0.4%)   \nSupport Devices             63,971 (28.7%)    3,014.0 (1.4%)      95.0 (0.0%)   \n\n                            Disagreement  \nAtelectasis                 1,705 (0.8%)  \nCardiomegaly                5,769 (2.6%)  \nConsolidation               1,576 (0.7%)  \nEdema                       2,282 (1.0%)  \nEnlarged Cardiomediastinum    248 (0.1%)  \nFracture                      867 (0.4%)  \nLung Lesion                   289 (0.1%)  \nLung Opacity                2,460 (1.1%)  \nNo Finding                  3,825 (1.7%)  \nPleural Effusion            1,617 (0.7%)  \nPleural Other                  91 (0.0%)  \nPneumonia                   1,377 (0.6%)  \nPneumothorax                1,291 (0.6%)  \nSupport Devices             1,785 (0.8%)  ",
      "text/html": "<div>\n<style scoped>\n    .dataframe tbody tr th:only-of-type {\n        vertical-align: middle;\n    }\n\n    .dataframe tbody tr th {\n        vertical-align: top;\n    }\n\n    .dataframe thead th {\n        text-align: right;\n    }\n</style>\n<table border=\"1\" class=\"dataframe\">\n  <thead>\n    <tr style=\"text-align: right;\">\n      <th></th>\n      <th>Positive</th>\n      <th>Negative</th>\n      <th>Uncertain</th>\n      <th>Disagreement</th>\n    </tr>\n  </thead>\n  <tbody>\n    <tr>\n      <th>Atelectasis</th>\n      <td>44,012 (19.8%)</td>\n      <td>921.0 (0.4%)</td>\n      <td>9,623.0 (4.3%)</td>\n      <td>1,705 (0.8%)</td>\n    </tr>\n    <tr>\n      <th>Cardiomegaly</th>\n      <td>38,002 (17.1%)</td>\n      <td>15,563.0 (7.0%)</td>\n      <td>5,753.0 (2.6%)</td>\n      <td>5,769 (2.6%)</td>\n    </tr>\n    <tr>\n      <th>Consolidation</th>\n      <td>10,199 (4.6%)</td>\n      <td>7,791.0 (3.5%)</td>\n      <td>2,913.0 (1.3%)</td>\n      <td>1,576 (0.7%)</td>\n    </tr>\n    <tr>\n      <th>Edema</th>\n      <td>25,549 (11.5%)</td>\n      <td>24,746.0 (11.1%)</td>\n      <td>11,426.0 (5.1%)</td>\n      <td>2,282 (1.0%)</td>\n    </tr>\n    <tr>\n      <th>Enlarged Cardiomediastinum</th>\n      <td>6,798 (3.1%)</td>\n      <td>5,158.0 (2.3%)</td>\n      <td>9,015.0 (4.0%)</td>\n      <td>248 (0.1%)</td>\n    </tr>\n    <tr>\n      <th>Fracture</th>\n      <td>3,675 (1.6%)</td>\n      <td>871.0 (0.4%)</td>\n      <td>295.0 (0.1%)</td>\n      <td>867 (0.4%)</td>\n    </tr>\n    <tr>\n      <th>Lung Lesion</th>\n      <td>5,939 (2.7%)</td>\n      <td>822.0 (0.4%)</td>\n      <td>996.0 (0.4%)</td>\n      <td>289 (0.1%)</td>\n    </tr>\n    <tr>\n      <th>Lung Opacity</th>\n      <td>49,512 (22.2%)</td>\n      <td>2,794.0 (1.3%)</td>\n      <td>2,052.0 (0.9%)</td>\n      <td>2,460 (1.1%)</td>\n    </tr>\n    <tr>\n      <th>No Finding</th>\n      <td>74,019 (33.2%)</td>\n      <td>nan (nan%)</td>\n      <td>nan (nan%)</td>\n      <td>3,825 (1.7%)</td>\n    </tr>\n    <tr>\n      <th>Pleural Effusion</th>\n      <td>51,680 (23.2%)</td>\n      <td>26,532.0 (11.9%)</td>\n      <td>5,184.0 (2.3%)</td>\n      <td>1,617 (0.7%)</td>\n    </tr>\n    <tr>\n      <th>Pleural Other</th>\n      <td>1,884 (0.8%)</td>\n      <td>120.0 (0.1%)</td>\n      <td>707.0 (0.3%)</td>\n      <td>91 (0.0%)</td>\n    </tr>\n    <tr>\n      <th>Pneumonia</th>\n      <td>15,333 (6.9%)</td>\n      <td>23,771.0 (10.7%)</td>\n      <td>17,313.0 (7.8%)</td>\n      <td>1,377 (0.6%)</td>\n    </tr>\n    <tr>\n      <th>Pneumothorax</th>\n      <td>9,159 (4.1%)</td>\n      <td>41,250.0 (18.5%)</td>\n      <td>848.0 (0.4%)</td>\n      <td>1,291 (0.6%)</td>\n    </tr>\n    <tr>\n      <th>Support Devices</th>\n      <td>63,971 (28.7%)</td>\n      <td>3,014.0 (1.4%)</td>\n      <td>95.0 (0.0%)</td>\n      <td>1,785 (0.8%)</td>\n    </tr>\n  </tbody>\n</table>\n</div>"
     },
     "execution_count": 12,
     "metadata": {},
     "output_type": "execute_result"
    }
   ],
   "source": [
    "nb = pd.read_csv(NEGIBOX_PATH)\n",
    "cx = pd.read_csv(CHEXPERT_PATH)\n",
    "\n",
    "\n",
    "# merge these findings to create a table\n",
    "# both agree -> output label\n",
    "# disagree -> output -9\n",
    "\n",
    "# drop subject_id from cx - we have it in nb\n",
    "df = nb.merge(\n",
    "    cx.drop('subject_id', axis=1),\n",
    "    how='left',\n",
    "    left_on='study_id', right_on='study_id',\n",
    "    suffixes=('', '_cx')\n",
    ")\n",
    "\n",
    "# subselect to training set\n",
    "study_ids = set(df_split.loc[df_split['split']=='train', 'study_id'])\n",
    "df = df.loc[df['study_id'].isin(study_ids)]\n",
    "\n",
    "# replace numeric labels with meaningful labels\n",
    "# also annotate disagreements between the two labelers\n",
    "labels = {0: 'Negative', 1: 'Positive', -1: 'Uncertain', -9: 'Disagreement'}\n",
    "for c in df.columns:\n",
    "    if c in ('subject_id', 'study_id'):\n",
    "        continue\n",
    "    elif c.endswith('_cx'):\n",
    "        continue\n",
    "    \n",
    "    # chexpert column\n",
    "    c_cx = f'{c}_cx'\n",
    "    \n",
    "    # annotate disagreement\n",
    "    for val in labels.keys():\n",
    "        if val == -9:\n",
    "            continue\n",
    "        \n",
    "        # check one is null and the other isn't\n",
    "        idx = df[c].isnull() & df[c_cx].notnull()\n",
    "        df.loc[idx, c] = -9\n",
    "        \n",
    "        idx = df[c].notnull() & df[c_cx].isnull()\n",
    "        df.loc[idx, c] = -9\n",
    "        \n",
    "        # check both non-null, but different value\n",
    "        idx = df[c].notnull() & df[c_cx].notnull() & (df[c] != df[c_cx])\n",
    "        df.loc[idx, c] = -9\n",
    "        \n",
    "    # now for those missing in negbio\n",
    "    idx = df[c].isnull() & df[f'{c}_cx'].notnull()\n",
    "    df.loc[idx, c] = -9\n",
    "    \n",
    "    df[c] = df[c].map(labels)\n",
    "    \n",
    "# drop chexpert columns\n",
    "cols_drop = [c for c in df.columns if c.endswith('_cx')]\n",
    "df.drop(cols_drop, axis=1, inplace=True)\n",
    "\n",
    "# display a few example cases\n",
    "display(df.head(n=10))\n",
    "\n",
    "# create a summary table of the findings\n",
    "grp_cols = [c for c in df.columns if c not in ('subject_id', 'study_id')]\n",
    "tbl = {}\n",
    "for c in grp_cols:\n",
    "    tbl[c] = df[c].value_counts().to_dict()\n",
    "tbl = pd.DataFrame.from_dict(tbl, orient='index')\n",
    "\n",
    "\n",
    "# pretty format the labels\n",
    "N = df.shape[0]\n",
    "for c in tbl.columns:\n",
    "    tbl[c] = tbl[c].apply(lambda x: f'{x:,} ({100.0*x/N:3.1f}%)')\n",
    "\n",
    "# sort columns\n",
    "print(f'Frequency of labels in MIMIC-CXR-JPG on the training subset of {df.shape[0]:,} unique radiologic studies.')\n",
    "tbl = tbl[['Positive', 'Negative', 'Uncertain', 'Disagreement']]\n",
    "tbl.to_latex('findings_frequency.tex')\n",
    "tbl"
   ]
  },
  {
   "cell_type": "markdown",
   "metadata": {},
   "source": [
    "# Report sectioning"
   ]
  },
  {
   "cell_type": "code",
   "execution_count": 8,
   "metadata": {},
   "outputs": [
    {
     "name": "stdout",
     "output_type": "stream",
     "text": [
      "Index(['study', 'impression', 'findings', 'last_paragraph', 'comparison'], dtype='object')\n",
      "Of the total 227,835 reports.. \n",
      "  189,561 (83.2%) had a impression section\n",
      "  27,684 (12.2%) had a findings section\n",
      "  10,514 (4.6%) had a last_paragraph section\n"
     ]
    }
   ],
   "source": [
    "df = pd.read_csv(mimic_cxr_path / 'cxr-record-list.csv.gz', header=0, sep=',')\n",
    "sections = pd.read_csv(mimic_cxr_path / 'mimic-cxr-sections/mimic_cxr_sectioned.csv')\n",
    "\n",
    "print(sections.columns)\n",
    "N = df['study_id'].nunique()\n",
    "print(f'Of the total {N:,} reports.. ')\n",
    "idx = sections['study'].notnull()\n",
    "for c in ['impression', 'findings', 'last_paragraph']:\n",
    "    n = sections.loc[idx, c].count()\n",
    "    print(f'  {n:,} ({100.0*n/N:3.1f}%) had a {c} section')\n",
    "    # limit next check to only rows where this section is null\n",
    "    idx = idx & sections[c].isnull()\n"
   ]
  }
 ],
 "metadata": {
  "kernelspec": {
   "name": "python3",
   "language": "python",
   "display_name": "Python 3 (ipykernel)"
  },
  "language_info": {
   "codemirror_mode": {
    "name": "ipython",
    "version": 3
   },
   "file_extension": ".py",
   "mimetype": "text/x-python",
   "name": "python",
   "nbconvert_exporter": "python",
   "pygments_lexer": "ipython3",
   "version": "3.7.3"
  }
 },
 "nbformat": 4,
 "nbformat_minor": 2
}