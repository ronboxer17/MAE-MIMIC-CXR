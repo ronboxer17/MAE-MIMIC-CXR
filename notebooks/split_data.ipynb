{
 "cells": [
  {
   "cell_type": "code",
   "execution_count": 48,
   "metadata": {
    "collapsed": true
   },
   "outputs": [
    {
     "name": "stdout",
     "output_type": "stream",
     "text": [
      "The autoreload extension is already loaded. To reload it, use:\n",
      "  %reload_ext autoreload\n"
     ]
    }
   ],
   "source": [
    "import pandas as pd\n",
    "import numpy as np\n",
    "\n",
    "from src.config import METADATA_PATH, SPLIT_PATH, NEGIBOX_PATH, CHEXPERT_PATH\n",
    "\n",
    "%load_ext autoreload\n",
    "%autoreload 2"
   ]
  },
  {
   "cell_type": "code",
   "execution_count": 49,
   "outputs": [],
   "source": [
    "df_split = pd.read_csv(SPLIT_PATH)\n",
    "df_metadata = pd.read_csv(METADATA_PATH)"
   ],
   "metadata": {
    "collapsed": false,
    "pycharm": {
     "name": "#%%\n"
    }
   }
  },
  {
   "cell_type": "code",
   "execution_count": 50,
   "outputs": [],
   "source": [
    "# initialize view with a mapping from ViewPosition\n",
    "VIEW_MAP = {\n",
    "    'AP': 'frontal',\n",
    "    'PA': 'frontal',\n",
    "    'LATERAL': 'lateral',\n",
    "    'LL': 'lateral',\n",
    "    'LPO': 'other',\n",
    "    'RAO': 'other',\n",
    "    'RPO': 'other',\n",
    "    'LAO': 'other',\n",
    "    # the below are overwritten in some instances by manual review\n",
    "    'AP AXIAL': 'other',\n",
    "    'XTABLE LATERAL': 'other',\n",
    "    'AP LLD': 'other',\n",
    "    'PA LLD': 'other',\n",
    "    'L5 S1': 'other',\n",
    "    'SWIMMERS': 'other',\n",
    "    'AP RLD': 'other',\n",
    "    'PA RLD': 'other',\n",
    "}\n",
    "df_metadata['view'] = df_metadata['ViewPosition'].map(VIEW_MAP)"
   ],
   "metadata": {
    "collapsed": false,
    "pycharm": {
     "name": "#%%\n"
    }
   }
  },
  {
   "cell_type": "code",
   "execution_count": 51,
   "outputs": [],
   "source": [
    "nb = pd.read_csv(NEGIBOX_PATH)\n",
    "cx = pd.read_csv(CHEXPERT_PATH)"
   ],
   "metadata": {
    "collapsed": false,
    "pycharm": {
     "name": "#%%\n"
    }
   }
  },
  {
   "cell_type": "code",
   "execution_count": 52,
   "outputs": [
    {
     "data": {
      "text/plain": "train       0.977964\ntest        0.013985\nvalidate    0.008051\nName: split, dtype: float64"
     },
     "execution_count": 52,
     "metadata": {},
     "output_type": "execute_result"
    }
   ],
   "source": [
    "df_metadata[df_metadata['view'] == 'frontal'].merge(df_split, on='dicom_id')['split'].value_counts(dropna=False, normalize=True)"
   ],
   "metadata": {
    "collapsed": false,
    "pycharm": {
     "name": "#%%\n"
    }
   }
  },
  {
   "cell_type": "code",
   "execution_count": 53,
   "outputs": [
    {
     "data": {
      "text/plain": "        subject_id  study_id  Atelectasis  Cardiomegaly  Consolidation  Edema  \\\n0         10000032  50414267          NaN           NaN            NaN    NaN   \n1         10000032  53189527          NaN           NaN            NaN    NaN   \n2         10000032  53911762          NaN           NaN            NaN    NaN   \n3         10000032  56699142          NaN           NaN            NaN    NaN   \n4         10000764  57375967          NaN           NaN            1.0    NaN   \n...            ...       ...          ...           ...            ...    ...   \n227822    19999442  58708861          NaN           NaN            NaN    NaN   \n227823    19999733  57132437          NaN           NaN            NaN    NaN   \n227824    19999987  55368167          1.0          -1.0            NaN    NaN   \n227825    19999987  58621812          1.0           NaN            NaN    NaN   \n227826    19999987  58971208          1.0           NaN            NaN    NaN   \n\n        Enlarged Cardiomediastinum  Fracture  Lung Lesion  Lung Opacity  \\\n0                              NaN       NaN          NaN           NaN   \n1                              NaN       NaN          NaN           NaN   \n2                              NaN       NaN          NaN           NaN   \n3                              NaN       NaN          NaN           NaN   \n4                              NaN       NaN          NaN           NaN   \n...                            ...       ...          ...           ...   \n227822                         NaN       NaN          NaN           NaN   \n227823                         NaN       NaN          NaN           NaN   \n227824                         NaN       NaN          0.0           NaN   \n227825                         NaN       NaN          NaN           NaN   \n227826                         NaN       NaN          NaN           NaN   \n\n        No Finding  Pleural Effusion  Pleural Other  Pneumonia  Pneumothorax  \\\n0              1.0               NaN            NaN        NaN           NaN   \n1              1.0               NaN            NaN        NaN           NaN   \n2              1.0               NaN            NaN        NaN           NaN   \n3              1.0               NaN            NaN        NaN           NaN   \n4              NaN               NaN            NaN       -1.0           NaN   \n...            ...               ...            ...        ...           ...   \n227822         1.0               NaN            NaN        NaN           NaN   \n227823         1.0               NaN            NaN        NaN           NaN   \n227824         NaN               0.0            NaN        NaN           0.0   \n227825         NaN               NaN            NaN        NaN           NaN   \n227826         NaN               NaN            NaN        NaN           NaN   \n\n        Support Devices  \n0                   NaN  \n1                   NaN  \n2                   NaN  \n3                   NaN  \n4                   NaN  \n...                 ...  \n227822              1.0  \n227823              NaN  \n227824              NaN  \n227825              1.0  \n227826              NaN  \n\n[227827 rows x 16 columns]",
      "text/html": "<div>\n<style scoped>\n    .dataframe tbody tr th:only-of-type {\n        vertical-align: middle;\n    }\n\n    .dataframe tbody tr th {\n        vertical-align: top;\n    }\n\n    .dataframe thead th {\n        text-align: right;\n    }\n</style>\n<table border=\"1\" class=\"dataframe\">\n  <thead>\n    <tr style=\"text-align: right;\">\n      <th></th>\n      <th>subject_id</th>\n      <th>study_id</th>\n      <th>Atelectasis</th>\n      <th>Cardiomegaly</th>\n      <th>Consolidation</th>\n      <th>Edema</th>\n      <th>Enlarged Cardiomediastinum</th>\n      <th>Fracture</th>\n      <th>Lung Lesion</th>\n      <th>Lung Opacity</th>\n      <th>No Finding</th>\n      <th>Pleural Effusion</th>\n      <th>Pleural Other</th>\n      <th>Pneumonia</th>\n      <th>Pneumothorax</th>\n      <th>Support Devices</th>\n    </tr>\n  </thead>\n  <tbody>\n    <tr>\n      <th>0</th>\n      <td>10000032</td>\n      <td>50414267</td>\n      <td>NaN</td>\n      <td>NaN</td>\n      <td>NaN</td>\n      <td>NaN</td>\n      <td>NaN</td>\n      <td>NaN</td>\n      <td>NaN</td>\n      <td>NaN</td>\n      <td>1.0</td>\n      <td>NaN</td>\n      <td>NaN</td>\n      <td>NaN</td>\n      <td>NaN</td>\n      <td>NaN</td>\n    </tr>\n    <tr>\n      <th>1</th>\n      <td>10000032</td>\n      <td>53189527</td>\n      <td>NaN</td>\n      <td>NaN</td>\n      <td>NaN</td>\n      <td>NaN</td>\n      <td>NaN</td>\n      <td>NaN</td>\n      <td>NaN</td>\n      <td>NaN</td>\n      <td>1.0</td>\n      <td>NaN</td>\n      <td>NaN</td>\n      <td>NaN</td>\n      <td>NaN</td>\n      <td>NaN</td>\n    </tr>\n    <tr>\n      <th>2</th>\n      <td>10000032</td>\n      <td>53911762</td>\n      <td>NaN</td>\n      <td>NaN</td>\n      <td>NaN</td>\n      <td>NaN</td>\n      <td>NaN</td>\n      <td>NaN</td>\n      <td>NaN</td>\n      <td>NaN</td>\n      <td>1.0</td>\n      <td>NaN</td>\n      <td>NaN</td>\n      <td>NaN</td>\n      <td>NaN</td>\n      <td>NaN</td>\n    </tr>\n    <tr>\n      <th>3</th>\n      <td>10000032</td>\n      <td>56699142</td>\n      <td>NaN</td>\n      <td>NaN</td>\n      <td>NaN</td>\n      <td>NaN</td>\n      <td>NaN</td>\n      <td>NaN</td>\n      <td>NaN</td>\n      <td>NaN</td>\n      <td>1.0</td>\n      <td>NaN</td>\n      <td>NaN</td>\n      <td>NaN</td>\n      <td>NaN</td>\n      <td>NaN</td>\n    </tr>\n    <tr>\n      <th>4</th>\n      <td>10000764</td>\n      <td>57375967</td>\n      <td>NaN</td>\n      <td>NaN</td>\n      <td>1.0</td>\n      <td>NaN</td>\n      <td>NaN</td>\n      <td>NaN</td>\n      <td>NaN</td>\n      <td>NaN</td>\n      <td>NaN</td>\n      <td>NaN</td>\n      <td>NaN</td>\n      <td>-1.0</td>\n      <td>NaN</td>\n      <td>NaN</td>\n    </tr>\n    <tr>\n      <th>...</th>\n      <td>...</td>\n      <td>...</td>\n      <td>...</td>\n      <td>...</td>\n      <td>...</td>\n      <td>...</td>\n      <td>...</td>\n      <td>...</td>\n      <td>...</td>\n      <td>...</td>\n      <td>...</td>\n      <td>...</td>\n      <td>...</td>\n      <td>...</td>\n      <td>...</td>\n      <td>...</td>\n    </tr>\n    <tr>\n      <th>227822</th>\n      <td>19999442</td>\n      <td>58708861</td>\n      <td>NaN</td>\n      <td>NaN</td>\n      <td>NaN</td>\n      <td>NaN</td>\n      <td>NaN</td>\n      <td>NaN</td>\n      <td>NaN</td>\n      <td>NaN</td>\n      <td>1.0</td>\n      <td>NaN</td>\n      <td>NaN</td>\n      <td>NaN</td>\n      <td>NaN</td>\n      <td>1.0</td>\n    </tr>\n    <tr>\n      <th>227823</th>\n      <td>19999733</td>\n      <td>57132437</td>\n      <td>NaN</td>\n      <td>NaN</td>\n      <td>NaN</td>\n      <td>NaN</td>\n      <td>NaN</td>\n      <td>NaN</td>\n      <td>NaN</td>\n      <td>NaN</td>\n      <td>1.0</td>\n      <td>NaN</td>\n      <td>NaN</td>\n      <td>NaN</td>\n      <td>NaN</td>\n      <td>NaN</td>\n    </tr>\n    <tr>\n      <th>227824</th>\n      <td>19999987</td>\n      <td>55368167</td>\n      <td>1.0</td>\n      <td>-1.0</td>\n      <td>NaN</td>\n      <td>NaN</td>\n      <td>NaN</td>\n      <td>NaN</td>\n      <td>0.0</td>\n      <td>NaN</td>\n      <td>NaN</td>\n      <td>0.0</td>\n      <td>NaN</td>\n      <td>NaN</td>\n      <td>0.0</td>\n      <td>NaN</td>\n    </tr>\n    <tr>\n      <th>227825</th>\n      <td>19999987</td>\n      <td>58621812</td>\n      <td>1.0</td>\n      <td>NaN</td>\n      <td>NaN</td>\n      <td>NaN</td>\n      <td>NaN</td>\n      <td>NaN</td>\n      <td>NaN</td>\n      <td>NaN</td>\n      <td>NaN</td>\n      <td>NaN</td>\n      <td>NaN</td>\n      <td>NaN</td>\n      <td>NaN</td>\n      <td>1.0</td>\n    </tr>\n    <tr>\n      <th>227826</th>\n      <td>19999987</td>\n      <td>58971208</td>\n      <td>1.0</td>\n      <td>NaN</td>\n      <td>NaN</td>\n      <td>NaN</td>\n      <td>NaN</td>\n      <td>NaN</td>\n      <td>NaN</td>\n      <td>NaN</td>\n      <td>NaN</td>\n      <td>NaN</td>\n      <td>NaN</td>\n      <td>NaN</td>\n      <td>NaN</td>\n      <td>NaN</td>\n    </tr>\n  </tbody>\n</table>\n<p>227827 rows × 16 columns</p>\n</div>"
     },
     "execution_count": 53,
     "metadata": {},
     "output_type": "execute_result"
    }
   ],
   "source": [
    "nb"
   ],
   "metadata": {
    "collapsed": false,
    "pycharm": {
     "name": "#%%\n"
    }
   }
  },
  {
   "cell_type": "code",
   "execution_count": 53,
   "outputs": [],
   "source": [],
   "metadata": {
    "collapsed": false,
    "pycharm": {
     "name": "#%%\n"
    }
   }
  },
  {
   "cell_type": "code",
   "execution_count": 57,
   "outputs": [
    {
     "data": {
      "text/plain": "split     Pleural Effusion_mapped\ntest      0                            2327\n          1                            1076\ntrain     0                          182839\n          1                           55123\nvalidate  0                            1461\n          1                             498\nName: dicom_id, dtype: int64"
     },
     "execution_count": 57,
     "metadata": {},
     "output_type": "execute_result"
    }
   ],
   "source": [
    "metadata_cols = ['dicom_id', 'subject_id', 'study_id', 'view']\n",
    "nb_cols = ['Pleural Effusion', 'subject_id', 'study_id']\n",
    "split_cols = ['dicom_id', 'split']\n",
    "\n",
    "df = df_metadata[metadata_cols]\\\n",
    "        .merge(nb[nb_cols], on=['subject_id', 'study_id'])\\\n",
    "        .drop(columns=['subject_id', 'study_id'])\\\n",
    "        .merge(df_split[split_cols], on='dicom_id')\n",
    "df = df[df.view == 'frontal']\n",
    "\n",
    "\n",
    "df['Pleural Effusion'] = df['Pleural Effusion'].fillna('na')\n",
    "mapper = {\n",
    "    -1   : 0,\n",
    "    'na' : 0,\n",
    "    0    : 0,\n",
    "    1    : 1\n",
    "}\n",
    "df['Pleural Effusion_mapped'] = df['Pleural Effusion'].map(mapper)\n",
    "\n",
    "\n",
    "df.groupby(['split', 'Pleural Effusion_mapped']).count()\n",
    "['dicom_id']"
   ],
   "metadata": {
    "collapsed": false,
    "pycharm": {
     "name": "#%%\n"
    }
   }
  },
  {
   "cell_type": "code",
   "execution_count": 69,
   "outputs": [
    {
     "data": {
      "text/plain": "array([0, 1], dtype=int64)"
     },
     "execution_count": 69,
     "metadata": {},
     "output_type": "execute_result"
    }
   ],
   "source": [
    "train_data = df[df.split == 'train']\n",
    "train_data['Pleural Effusion_mapped'].unique()"
   ],
   "metadata": {
    "collapsed": false,
    "pycharm": {
     "name": "#%%\n"
    }
   }
  },
  {
   "cell_type": "code",
   "execution_count": 77,
   "outputs": [
    {
     "name": "stdout",
     "output_type": "stream",
     "text": [
      "{'02aa804e-bde0afdd-112c0b34-7bc16630-4e384014': 'C:/Users/itama/Google Drive/github/MAE-MIMIC-CXR/data/mimic-cxr/files/p10/p10000032/s50414267/02aa804e-bde0afdd-112c0b34-7bc16630-4e384014.jpg', '2a2277a9-b0ded155-c0de8eb9-c124d10e-82c5caab': 'C:/Users/itama/Google Drive/github/MAE-MIMIC-CXR/data/mimic-cxr/files/p10/p10000032/s53189527/2a2277a9-b0ded155-c0de8eb9-c124d10e-82c5caab.jpg', '68b5c4b1-227d0485-9cc38c3f-7b84ab51-4b472714': 'C:/Users/itama/Google Drive/github/MAE-MIMIC-CXR/data/mimic-cxr/files/p10/p10000032/s53911762/68b5c4b1-227d0485-9cc38c3f-7b84ab51-4b472714.jpg', 'fffabebf-74fd3a1f-673b6b41-96ec0ac9-2ab69818': 'C:/Users/itama/Google Drive/github/MAE-MIMIC-CXR/data/mimic-cxr/files/p10/p10000032/s53911762/fffabebf-74fd3a1f-673b6b41-96ec0ac9-2ab69818.jpg', 'ea030e7a-2e3b1346-bc518786-7a8fd698-f673b44c': 'C:/Users/itama/Google Drive/github/MAE-MIMIC-CXR/data/mimic-cxr/files/p10/p10000032/s56699142/ea030e7a-2e3b1346-bc518786-7a8fd698-f673b44c.jpg', '096052b7-d256dc40-453a102b-fa7d01c6-1b22c6b4': 'C:/Users/itama/Google Drive/github/MAE-MIMIC-CXR/data/mimic-cxr/files/p10/p10000764/s57375967/096052b7-d256dc40-453a102b-fa7d01c6-1b22c6b4.jpg'}\n",
      "{'02aa804e-bde0afdd-112c0b34-7bc16630-4e384014': 'C:/Users/itama/Google Drive/github/MAE-MIMIC-CXR/data/mimic-cxr/files/p10/p10000032/s50414267/02aa804e-bde0afdd-112c0b34-7bc16630-4e384014.jpg', '2a2277a9-b0ded155-c0de8eb9-c124d10e-82c5caab': 'C:/Users/itama/Google Drive/github/MAE-MIMIC-CXR/data/mimic-cxr/files/p10/p10000032/s53189527/2a2277a9-b0ded155-c0de8eb9-c124d10e-82c5caab.jpg', '68b5c4b1-227d0485-9cc38c3f-7b84ab51-4b472714': 'C:/Users/itama/Google Drive/github/MAE-MIMIC-CXR/data/mimic-cxr/files/p10/p10000032/s53911762/68b5c4b1-227d0485-9cc38c3f-7b84ab51-4b472714.jpg', 'fffabebf-74fd3a1f-673b6b41-96ec0ac9-2ab69818': 'C:/Users/itama/Google Drive/github/MAE-MIMIC-CXR/data/mimic-cxr/files/p10/p10000032/s53911762/fffabebf-74fd3a1f-673b6b41-96ec0ac9-2ab69818.jpg', 'ea030e7a-2e3b1346-bc518786-7a8fd698-f673b44c': 'C:/Users/itama/Google Drive/github/MAE-MIMIC-CXR/data/mimic-cxr/files/p10/p10000032/s56699142/ea030e7a-2e3b1346-bc518786-7a8fd698-f673b44c.jpg', '096052b7-d256dc40-453a102b-fa7d01c6-1b22c6b4': 'C:/Users/itama/Google Drive/github/MAE-MIMIC-CXR/data/mimic-cxr/files/p10/p10000764/s57375967/096052b7-d256dc40-453a102b-fa7d01c6-1b22c6b4.jpg'}\n"
     ]
    }
   ],
   "source": [
    "from src.data.loaders import create_data_folder_for_model\n",
    "\n",
    "for label in train_data['Pleural Effusion_mapped'].unique():\n",
    "    create_data_folder_for_model(list(train_data['dicom_id']), type='train', label=str(label))"
   ],
   "metadata": {
    "collapsed": false,
    "pycharm": {
     "name": "#%%\n"
    }
   }
  },
  {
   "cell_type": "code",
   "execution_count": null,
   "outputs": [],
   "source": [],
   "metadata": {
    "collapsed": false,
    "pycharm": {
     "name": "#%%\n"
    }
   }
  }
 ],
 "metadata": {
  "kernelspec": {
   "display_name": "Python 3",
   "language": "python",
   "name": "python3"
  },
  "language_info": {
   "codemirror_mode": {
    "name": "ipython",
    "version": 2
   },
   "file_extension": ".py",
   "mimetype": "text/x-python",
   "name": "python",
   "nbconvert_exporter": "python",
   "pygments_lexer": "ipython2",
   "version": "2.7.6"
  }
 },
 "nbformat": 4,
 "nbformat_minor": 0
}